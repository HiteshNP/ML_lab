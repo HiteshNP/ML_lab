{
 "cells": [
  {
   "cell_type": "code",
   "execution_count": 1,
   "metadata": {},
   "outputs": [
    {
     "name": "stdout",
     "output_type": "stream",
     "text": [
      "Dataset\n",
      "   Gender  Height  Weight  Foot_Size\n",
      "0    male    6.00     180         12\n",
      "1    male    5.92     190         11\n",
      "2    male    5.58     170         12\n",
      "3    male    5.92     165         10\n",
      "4  female    5.00     100          6\n",
      "5  female    5.50     150          8\n",
      "6  female    5.45     130          7\n",
      "7  female    5.75     150          9\n",
      "\n",
      " Instance Dataset\n",
      "   Height  Weight  Foot_Size\n",
      "0       5     130          6\n",
      "\n",
      "Data mean\n",
      "        Height  Weight  Foot_Size\n",
      "Gender                           \n",
      "female   5.425  132.50       7.50\n",
      "male     5.855  176.25      11.25\n",
      "\n",
      "Data variance\n",
      "          Height      Weight  Foot_Size\n",
      "Gender                                 \n",
      "female  0.097500  558.333333   1.666667\n",
      "male    0.035033  122.916667   0.916667\n",
      "Probability Male: 2.3136442953578095e-17\n",
      "Probability Female: 0.0006682947190317349\n",
      "Target Label: Female\n"
     ]
    }
   ],
   "source": [
    "import pandas as pd\n",
    "import numpy as np\n",
    "\n",
    "data = pd.DataFrame({\n",
    "    'Gender': ['male', 'male', 'male', 'male', 'female', 'female', 'female', 'female'],\n",
    "    'Height': [6, 5.92, 5.58, 5.92, 5, 5.5, 5.45, 5.75],\n",
    "    'Weight': [180, 190, 170, 165, 100, 150, 130, 150],\n",
    "    'Foot_Size': [12, 11, 12, 10, 6, 8, 7, 9]\n",
    "})\n",
    "print(\"Dataset\")\n",
    "print(data)\n",
    "\n",
    "person = pd.DataFrame({'Height': [5], 'Weight': [130], 'Foot_Size': [6]})\n",
    "print(\"\\n Instance Dataset\")\n",
    "print(person)\n",
    "\n",
    "means = data.groupby('Gender').mean()\n",
    "vars = data.groupby('Gender').var()\n",
    "priors = data['Gender'].value_counts(normalize=True)\n",
    "print(\"\\nData mean\")\n",
    "print(means)\n",
    "print(\"\\nData variance\")\n",
    "print(vars)\n",
    "\n",
    "def p_x_given_y(x, mean_y, var_y):\n",
    "    return (1 / np.sqrt(2 * np.pi * var_y)) * np.exp(-(x - mean_y) ** 2 / (2 * var_y))\n",
    "\n",
    "def calc_prob(person, gender):\n",
    "    mean = means.loc[gender]\n",
    "    var = vars.loc[gender]\n",
    "    prob = priors[gender]\n",
    "    for feature in person.columns:\n",
    "        prob *= p_x_given_y(person[feature][0], mean[feature], var[feature])\n",
    "    return prob\n",
    "\n",
    "prob_male = calc_prob(person, 'male')\n",
    "prob_female = calc_prob(person, 'female')\n",
    "\n",
    "print(\"Probability Male:\", prob_male)\n",
    "print(\"Probability Female:\", prob_female)\n",
    "print(\"Target Label:\", \"Male\" if prob_male > prob_female else \"Female\")"
   ]
  }
 ],
 "metadata": {
  "kernelspec": {
   "display_name": "Python 3",
   "language": "python",
   "name": "python3"
  },
  "language_info": {
   "codemirror_mode": {
    "name": "ipython",
    "version": 3
   },
   "file_extension": ".py",
   "mimetype": "text/x-python",
   "name": "python",
   "nbconvert_exporter": "python",
   "pygments_lexer": "ipython3",
   "version": "3.12.2"
  }
 },
 "nbformat": 4,
 "nbformat_minor": 2
}
