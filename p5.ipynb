{
 "cells": [
  {
   "cell_type": "code",
   "execution_count": 3,
   "metadata": {},
   "outputs": [
    {
     "name": "stdout",
     "output_type": "stream",
     "text": [
      "Split 768 rows into training=614 and testing=154 rows\n",
      "Classification Accuracy: 72.73%\n"
     ]
    }
   ],
   "source": [
    "import csv\n",
    "import random\n",
    "import math\n",
    "\n",
    "def load_csv(filename):\n",
    "    with open(filename) as file:\n",
    "        next(file)\n",
    "        fd = csv.reader(file)\n",
    "        return [list(map(float, row)) for row in fd]\n",
    "\n",
    "def split_dataset(dataset, ratio):\n",
    "    train_size = int(len(dataset) * ratio)\n",
    "    random.shuffle(dataset)\n",
    "    return dataset[:train_size], dataset[train_size:]\n",
    "\n",
    "def separate_by_class(dataset):\n",
    "    separated = {}\n",
    "    for row in dataset:\n",
    "        cls = row[-1]\n",
    "        separated.setdefault(cls, []).append(row)\n",
    "    return separated\n",
    "\n",
    "def summarize(dataset):\n",
    "    def mean(numbers): \n",
    "        return sum(numbers) / len(numbers)\n",
    "    def stdev(numbers):\n",
    "        avg = mean(numbers)\n",
    "        variance = sum((x - avg) ** 2 for x in numbers) / (len(numbers) - 1)\n",
    "        return math.sqrt(variance)\n",
    "\n",
    "    columns = list(zip(*dataset))\n",
    "    return [(mean(col), stdev(col)) for col in columns[:-1]]\n",
    "\n",
    "def calculate_probability(x, mean, stdev):\n",
    "    exponent = math.exp(-((x - mean) ** 2 / (2 * stdev ** 2)))\n",
    "    return (exponent / (math.sqrt(2 * math.pi) * stdev)) \n",
    "\n",
    "def predict(summaries, x):\n",
    "    probabilities = {}\n",
    "    for cls, stats in summaries.items():\n",
    "        probabilities[cls] = 1\n",
    "        for i, (mean, stdev) in enumerate(stats):\n",
    "            probabilities[cls] *= calculate_probability(x[i], mean, stdev)\n",
    "    return max(probabilities, key=probabilities.get)\n",
    "\n",
    "def get_accuracy(test_set, predictions):\n",
    "    correct = sum(1 for i in range(len(test_set)) if test_set[i][-1] == predictions[i])\n",
    "    return (correct / len(test_set)) * 100\n",
    "\n",
    "dataset = load_csv('diabetes.csv')\n",
    "train_set, test_set = split_dataset(dataset, 0.8)\n",
    "print(f'Split {len(dataset)} rows into training={len(train_set)} and testing={len(test_set)} rows')\n",
    "    \n",
    "separated = separate_by_class(train_set)\n",
    "summaries = {cls: summarize(rows) for cls, rows in separated.items()}\n",
    "\n",
    "predictions = [predict(summaries, row[:-1]) for row in test_set] \n",
    "print(f'Classification Accuracy: {get_accuracy(test_set, predictions):.2f}%')\n"
   ]
  }
 ],
 "metadata": {
  "kernelspec": {
   "display_name": "Python 3 (ipykernel)",
   "language": "python",
   "name": "python3"
  },
  "language_info": {
   "codemirror_mode": {
    "name": "ipython",
    "version": 3
   },
   "file_extension": ".py",
   "mimetype": "text/x-python",
   "name": "python",
   "nbconvert_exporter": "python",
   "pygments_lexer": "ipython3",
   "version": "3.12.2"
  }
 },
 "nbformat": 4,
 "nbformat_minor": 2
}
