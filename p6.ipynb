{
 "cells": [
  {
   "cell_type": "code",
   "execution_count": 2,
   "metadata": {},
   "outputs": [
    {
     "name": "stdout",
     "output_type": "stream",
     "text": [
      "Sample instances from the dataset are given below\n",
      "   age  sex  cp  trestbps  chol  fbs  restecg  thalach  exang  oldpeak  slope  \\\n",
      "0   63    1   3       145   233    1        0      150      0      2.3      0   \n",
      "1   37    1   2       130   250    0        1      187      0      3.5      0   \n",
      "2   41    0   1       130   204    0        0      172      0      1.4      2   \n",
      "3   56    1   1       120   236    0        1      178      0      0.8      2   \n",
      "4   57    0   0       120   354    0        1      163      1      0.6      2   \n",
      "\n",
      "   ca  thal  target  \n",
      "0   0     1       1  \n",
      "1   0     2       1  \n",
      "2   0     2       1  \n",
      "3   0     2       1  \n",
      "4   0     2       1  \n",
      "\n",
      "1. Probability of HeartDisease given evidence= restecg\n",
      "+-----------+---------------+\n",
      "| target    |   phi(target) |\n",
      "+===========+===============+\n",
      "| target(0) |        0.4242 |\n",
      "+-----------+---------------+\n",
      "| target(1) |        0.5758 |\n",
      "+-----------+---------------+\n",
      "\n",
      "2. Probability of HeartDisease given evidence= cp\n",
      "+-----------+---------------+\n",
      "| target    |   phi(target) |\n",
      "+===========+===============+\n",
      "| target(0) |        0.3755 |\n",
      "+-----------+---------------+\n",
      "| target(1) |        0.6245 |\n",
      "+-----------+---------------+\n"
     ]
    }
   ],
   "source": [
    "import pandas as pd\n",
    "from pgmpy.estimators import MaximumLikelihoodEstimator\n",
    "from pgmpy.models import BayesianNetwork\n",
    "from pgmpy.inference import VariableElimination\n",
    "\n",
    "heartDisease = pd.read_csv(\"HeartDisease.csv\")\n",
    "\n",
    "print('Sample instances from the dataset are given below')\n",
    "print(heartDisease.head())\n",
    "\n",
    "model = BayesianNetwork([('age', 'target'), ('sex', 'target'), ('cp', 'target'), ('exang', 'target'), ('target', 'chol'), ('target', 'restecg')])\n",
    "model.fit(heartDisease, estimator=MaximumLikelihoodEstimator)\n",
    "\n",
    "HeartDiseasetest_infer = VariableElimination(model)\n",
    "\n",
    "print('\\n1. Probability of HeartDisease given evidence= restecg')\n",
    "q1 = HeartDiseasetest_infer.query(variables=['target'], evidence={'restecg': 1})\n",
    "print(q1)\n",
    "\n",
    "print('\\n2. Probability of HeartDisease given evidence= cp')\n",
    "q2 = HeartDiseasetest_infer.query(variables=['target'], evidence={'cp': 2})\n",
    "print(q2)\n"
   ]
  }
 ],
 "metadata": {
  "kernelspec": {
   "display_name": "Python 3 (ipykernel)",
   "language": "python",
   "name": "python3"
  },
  "language_info": {
   "codemirror_mode": {
    "name": "ipython",
    "version": 3
   },
   "file_extension": ".py",
   "mimetype": "text/x-python",
   "name": "python",
   "nbconvert_exporter": "python",
   "pygments_lexer": "ipython3",
   "version": "3.12.2"
  }
 },
 "nbformat": 4,
 "nbformat_minor": 2
}
