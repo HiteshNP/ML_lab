{
 "cells": [
  {
   "cell_type": "markdown",
   "metadata": {},
   "source": [
    "**Aim:** Demonstrate the working model and principle of the Candidate Elimination algorithm.\n",
    "\n",
    "**Program:** For a given set of training data examples stored in a `.CSV` file, implement and demonstrate the Candidate-Elimination algorithm to output a description of the set of all hypotheses consistent with the training examples.\n"
   ]
  },
  {
   "cell_type": "code",
   "execution_count": 1,
   "metadata": {},
   "outputs": [
    {
     "name": "stdout",
     "output_type": "stream",
     "text": [
      "\n",
      "The given training examples are:\n",
      "['sunny', 'warm', 'normal', 'strong', 'warm', 'same', 'yes']\n",
      "['sunny', 'warm', 'high', 'strong', 'warm', 'same', 'yes']\n",
      "['rainy', 'cold', 'high', 'strong', 'warm', 'change', 'no']\n",
      "['sunny', 'warm', 'high', 'strong', 'cool', 'change', 'yes']\n",
      "\n",
      "The positive examples are:\n",
      "['sunny', 'warm', 'normal', 'strong', 'warm', 'same', 'yes']\n",
      "['sunny', 'warm', 'high', 'strong', 'warm', 'same', 'yes']\n",
      "['sunny', 'warm', 'high', 'strong', 'cool', 'change', 'yes']\n",
      "\n",
      "The final specific output:\n",
      "['sunny', 'warm', '?', 'strong', '?', '?']\n",
      "\n",
      "The final Generalize output:\n",
      "['sunny', '?', '?', '?', '?', '?']\n",
      "['?', 'warm', '?', '?', '?', '?']\n",
      "['?', '?', '?', '?', '?', '?']\n"
     ]
    }
   ],
   "source": [
    "import csv\n",
    "\n",
    "hypo = []\n",
    "data = []\n",
    "temp = []\n",
    "gen = ['?', '?', '?', '?', '?', '?']\n",
    "\n",
    "with open('enjoysport.csv') as csv_file:\n",
    "    fd = csv.reader(csv_file)\n",
    "    print(\"\\nThe given training examples are:\")\n",
    "    for line in fd:\n",
    "        print(line)\n",
    "        temp.append(line)\n",
    "        if line[-1] == \"yes\":\n",
    "            data.append(line)\n",
    "\n",
    "print(\"\\nThe positive examples are:\")\n",
    "for line in data:\n",
    "    print(line)\n",
    "\n",
    "print(\"\\nThe final specific output:\")\n",
    "\n",
    "row = len(data)\n",
    "col = len(data[0])\n",
    "\n",
    "for j in range(col - 1):\n",
    "    hypo.append(data[0][j])\n",
    "\n",
    "for i in range(row):\n",
    "    for j in range(col - 1):\n",
    "        if hypo[j] != data[i][j]:\n",
    "            hypo[j] = '?'\n",
    "            \n",
    "print(hypo)\n",
    "\n",
    "print(\"\\nThe final Generalize output:\")\n",
    "\n",
    "row = len(temp)\n",
    "col = len(temp)\n",
    "\n",
    "for i in range(row):\n",
    "    if temp[i][-1] == \"no\":\n",
    "        for j in range(col - 1):\n",
    "            if temp[i][j] != hypo[j]:\n",
    "                gen[j] = hypo[j]\n",
    "                print(gen)\n",
    "                gen[j] = '?'"
   ]
  },
  {
   "cell_type": "markdown",
   "metadata": {},
   "source": []
  },
  {
   "cell_type": "markdown",
   "metadata": {},
   "source": [
    "### 1. What is the purpose of the `gen` list in the code?\n",
    "\n",
    "The `gen` list is used to store the general hypothesis generated after processing negative examples in the training dataset.\n",
    "\n",
    "### 2. How does this implementation differ from the standard Find-S algorithm?\n",
    "\n",
    "This implementation extends the Find-S algorithm by also considering negative examples to generate a general hypothesis, whereas the standard Find-S algorithm only focuses on positive examples.\n",
    "\n",
    "### 3. What does the '?' symbol in the `gen` list represent?\n",
    "\n",
    "In the `gen` list, the '?' symbol represents the most general hypothesis, indicating that any value for that attribute is acceptable.\n",
    "\n",
    "### 4. Why does the code reset the attribute in `gen` to '?' after updating it?\n",
    "\n",
    "Resetting the attribute to '?' ensures that the hypothesis remains as general as possible after considering each negative example.\n",
    "\n",
    "### 5. What is the significance of the final specific hypothesis?\n",
    "\n",
    "The final specific hypothesis is the most specific hypothesis that matches all positive examples, serving as a potential solution that the algorithm proposes for the target concept.\n",
    "\n",
    "### 6. What could be a potential limitation of this approach in a real-world scenario?\n",
    "\n",
    "This approach may struggle with noisy data or inconsistent examples, and it might not handle complex concepts that require more nuanced or probabilistic approaches.\n",
    "\n",
    "### 7. How would the general hypothesis help in understanding the concept being learned?\n",
    "\n",
    "The general hypothesis provides insights into which attributes are necessary to differentiate between positive and negative examples, helping to generalize the learned concept."
   ]
  }
 ],
 "metadata": {
  "kernelspec": {
   "display_name": "Python 3",
   "language": "python",
   "name": "python3"
  },
  "language_info": {
   "codemirror_mode": {
    "name": "ipython",
    "version": 3
   },
   "file_extension": ".py",
   "mimetype": "text/x-python",
   "name": "python",
   "nbconvert_exporter": "python",
   "pygments_lexer": "ipython3",
   "version": "3.12.2"
  }
 },
 "nbformat": 4,
 "nbformat_minor": 2
}
