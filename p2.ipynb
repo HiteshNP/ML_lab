{
 "cells": [
  {
   "cell_type": "code",
   "execution_count": 1,
   "metadata": {},
   "outputs": [
    {
     "name": "stdout",
     "output_type": "stream",
     "text": [
      "\n",
      "The given training examples are:\n",
      "['sunny', 'warm', 'normal', 'strong', 'warm', 'same', 'yes']\n",
      "['sunny', 'warm', 'high', 'strong', 'warm', 'same', 'yes']\n",
      "['rainy', 'cold', 'high', 'strong', 'warm', 'change', 'no']\n",
      "['sunny', 'warm', 'high', 'strong', 'cool', 'change', 'yes']\n",
      "\n",
      "The positive examples are: Enjoy swimming\n",
      "['sunny', 'warm', 'normal', 'strong', 'warm', 'same', 'yes']\n",
      "['sunny', 'warm', 'high', 'strong', 'warm', 'same', 'yes']\n",
      "['sunny', 'warm', 'high', 'strong', 'cool', 'change', 'yes']\n",
      "\n",
      "The final specific output:\n",
      "['sunny', 'warm', '?', 'strong', '?', '?']\n",
      "\n",
      "The final Generalize output:\n",
      "['sunny', '?', '?', '?', '?', '?']\n",
      "['?', 'warm', '?', '?', '?', '?']\n",
      "['?', '?', '?', '?', '?', '?']\n"
     ]
    }
   ],
   "source": [
    "import csv\n",
    "\n",
    "hypo = []\n",
    "data = []\n",
    "temp = []\n",
    "gen = ['?', '?', '?', '?', '?', '?']\n",
    "\n",
    "with open('enjoysport.csv') as csv_file:\n",
    "    fd = csv.reader(csv_file)\n",
    "    print(\"\\nThe given training examples are:\")\n",
    "    for line in fd:\n",
    "        print(line)\n",
    "        temp.append(line)\n",
    "        if line[-1] == \"yes\":\n",
    "            data.append(line)\n",
    "\n",
    "print(\"\\nThe positive examples are: Enjoy swimming\")\n",
    "for line in data:\n",
    "    print(line)\n",
    "\n",
    "print(\"\\nThe final specific output:\")\n",
    "\n",
    "row = len(data)\n",
    "col = len(data[0])\n",
    "\n",
    "for j in range(col - 1):\n",
    "    hypo.append(data[0][j])\n",
    "\n",
    "for i in range(row):\n",
    "    for j in range(col - 1):\n",
    "        if hypo[j] != data[i][j]:\n",
    "            hypo[j] = '?'\n",
    "            \n",
    "print(hypo)\n",
    "\n",
    "print(\"\\nThe final Generalize output:\")\n",
    "\n",
    "row = len(temp)\n",
    "col = len(temp)\n",
    "\n",
    "for i in range(row):\n",
    "    if temp[i][-1] == \"no\":\n",
    "        for j in range(col - 1):\n",
    "            if temp[i][j] != hypo[j]:\n",
    "                gen[j] = hypo[j]\n",
    "                print(gen)\n",
    "                gen[j] = '?'"
   ]
  }
 ],
 "metadata": {
  "kernelspec": {
   "display_name": "Python 3",
   "language": "python",
   "name": "python3"
  },
  "language_info": {
   "codemirror_mode": {
    "name": "ipython",
    "version": 3
   },
   "file_extension": ".py",
   "mimetype": "text/x-python",
   "name": "python",
   "nbconvert_exporter": "python",
   "pygments_lexer": "ipython3",
   "version": "3.12.2"
  }
 },
 "nbformat": 4,
 "nbformat_minor": 2
}
