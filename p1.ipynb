{
 "cells": [
  {
   "cell_type": "code",
   "execution_count": 3,
   "metadata": {},
   "outputs": [
    {
     "name": "stdout",
     "output_type": "stream",
     "text": [
      "\n",
      "The given training examples are:\n",
      "['sunny', 'warm', 'normal', 'strong', 'warm', 'same', 'yes']\n",
      "['sunny', 'warm', 'high', 'strong', 'warm', 'same', 'yes']\n",
      "['rainy', 'cold', 'high', 'strong', 'warm', 'change', 'no']\n",
      "['sunny', 'warm', 'high', 'strong', 'cool', 'change', 'yes']\n",
      "\n",
      "The positive examples are: Enjoy swimming\n",
      "['sunny', 'warm', 'normal', 'strong', 'warm', 'same', 'yes']\n",
      "['sunny', 'warm', 'high', 'strong', 'warm', 'same', 'yes']\n",
      "['sunny', 'warm', 'high', 'strong', 'cool', 'change', 'yes']\n",
      "\n",
      "The maximally specific Find-S hypothesis for the given training examples is:\n",
      "['sunny', 'warm', '?', 'strong', '?', '?']\n"
     ]
    }
   ],
   "source": [
    "import csv\n",
    "\n",
    "hypo = []\n",
    "data = []\n",
    "\n",
    "with open('enjoysport.csv') as csv_file:\n",
    "    fd = csv.reader(csv_file)\n",
    "    print(\"\\nThe given training examples are:\")\n",
    "    for line in fd:\n",
    "        print(line)\n",
    "        if line[-1] == \"yes\":\n",
    "            data.append(line)\n",
    "\n",
    "print(\"\\nThe positive examples are: Enjoy swimming\")\n",
    "for x in data:\n",
    "    print(x)\n",
    "\n",
    "row = len(data)\n",
    "col = len(data[0])\n",
    "\n",
    "for j in range(col - 1):\n",
    "    hypo.append(data[0][j])\n",
    "\n",
    "for i in range(row):\n",
    "    for j in range(col - 1):\n",
    "        if hypo[j] != data[i][j]:\n",
    "            hypo[j] = '?'\n",
    "\n",
    "print(\"\\nThe maximally specific Find-S hypothesis for the given training examples is:\")\n",
    "print(hypo)"
   ]
  }
 ],
 "metadata": {
  "kernelspec": {
   "display_name": "Python 3",
   "language": "python",
   "name": "python3"
  },
  "language_info": {
   "codemirror_mode": {
    "name": "ipython",
    "version": 3
   },
   "file_extension": ".py",
   "mimetype": "text/x-python",
   "name": "python",
   "nbconvert_exporter": "python",
   "pygments_lexer": "ipython3",
   "version": "3.12.2"
  }
 },
 "nbformat": 4,
 "nbformat_minor": 2
}
