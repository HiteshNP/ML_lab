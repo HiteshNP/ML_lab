{
 "cells": [
  {
   "cell_type": "markdown",
   "metadata": {},
   "source": [
    "**Aim:** Illustrate and demonstrate the working model and principle of the Find-S algorithm.\n",
    "\n",
    "**Program:** For a given set of training data examples stored in a `.CSV` file, implement and demonstrate the Find-S algorithm to output a description of the set of all hypotheses consistent with the training examples."
   ]
  },
  {
   "cell_type": "code",
   "execution_count": 7,
   "metadata": {},
   "outputs": [
    {
     "name": "stdout",
     "output_type": "stream",
     "text": [
      "\n",
      "The given training examples are:\n",
      "['sunny', 'warm', 'normal', 'strong', 'warm', 'same', 'yes']\n",
      "['sunny', 'warm', 'high', 'strong', 'warm', 'same', 'yes']\n",
      "['rainy', 'cold', 'high', 'strong', 'warm', 'change', 'no']\n",
      "['sunny', 'warm', 'high', 'strong', 'cool', 'change', 'yes']\n",
      "\n",
      "The positive examples are:\n",
      "['sunny', 'warm', 'normal', 'strong', 'warm', 'same', 'yes']\n",
      "['sunny', 'warm', 'high', 'strong', 'warm', 'same', 'yes']\n",
      "['sunny', 'warm', 'high', 'strong', 'cool', 'change', 'yes']\n",
      "\n",
      "The maximally specific Find-S hypothesis for the given training examples is:\n",
      "['sunny', 'warm', '?', 'strong', '?', '?']\n"
     ]
    }
   ],
   "source": [
    "import csv\n",
    "\n",
    "hypo = []\n",
    "data = []\n",
    "\n",
    "with open('enjoysport.csv') as csv_file:\n",
    "    fd = csv.reader(csv_file)\n",
    "    print(\"\\nThe given training examples are:\")\n",
    "    for line in fd:\n",
    "        print(line)\n",
    "        if line[-1] == \"yes\":\n",
    "            data.append(line)\n",
    "\n",
    "print(\"\\nThe positive examples are:\")\n",
    "for x in data:\n",
    "    print(x)\n",
    "\n",
    "row = len(data)\n",
    "col = len(data[0])\n",
    "\n",
    "for j in range(col - 1):\n",
    "    hypo.append(data[0][j])\n",
    "\n",
    "for i in range(row):\n",
    "    for j in range(col - 1):\n",
    "        if hypo[j] != data[i][j]:\n",
    "            hypo[j] = '?'\n",
    "\n",
    "print(\"\\nThe maximally specific Find-S hypothesis for the given training examples is:\")\n",
    "print(hypo)"
   ]
  },
  {
   "cell_type": "markdown",
   "metadata": {},
   "source": [
    "\n",
    "### 1. What is the Find-S Algorithm?\n",
    "The Find-S algorithm is a simple machine learning algorithm used to find the most specific hypothesis that matches all the positive examples in a given dataset.\n",
    "\n",
    "### 2. What Does the '?' Symbol Represent in the Final Hypothesis?\n",
    "The '?' symbol represents a wildcard, indicating that the hypothesis cannot specifically determine the value for that attribute and can accept any value.\n",
    "\n",
    "### 3. Why Do We Only Consider Positive Examples in the Find-S Algorithm?\n",
    "The Find-S algorithm aims to find the most specific hypothesis that covers all positive examples. Negative examples are ignored as they don't contribute to refining this specific hypothesis.\n",
    "\n",
    "### 4. What Are the Limitations of the Find-S Algorithm?\n",
    "The Find-S algorithm can only find a single, most specific hypothesis and does not handle noise or inconsistent data well. It also cannot handle cases where no hypothesis can cover all positive examples.\n",
    "\n",
    "### 5. What Would Happen if There Were No Positive Examples in the Dataset?\n",
    "If there are no positive examples, the Find-S algorithm would not be able to generate a hypothesis, as it relies entirely on positive examples to form its output.\n",
    "\n",
    "### 6. Why is the Initial Hypothesis Set to the First Positive Example?\n",
    "The initial hypothesis is set to the first positive example to start with the most specific possible hypothesis, which is then generalized based on subsequent examples."
   ]
  }
 ],
 "metadata": {
  "kernelspec": {
   "display_name": "Python 3",
   "language": "python",
   "name": "python3"
  },
  "language_info": {
   "codemirror_mode": {
    "name": "ipython",
    "version": 3
   },
   "file_extension": ".py",
   "mimetype": "text/x-python",
   "name": "python",
   "nbconvert_exporter": "python",
   "pygments_lexer": "ipython3",
   "version": "3.12.2"
  }
 },
 "nbformat": 4,
 "nbformat_minor": 2
}
