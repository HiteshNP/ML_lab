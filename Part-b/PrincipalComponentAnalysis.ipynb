{
 "cells": [
  {
   "cell_type": "code",
   "execution_count": 11,
   "id": "9996f617",
   "metadata": {},
   "outputs": [
    {
     "name": "stdout",
     "output_type": "stream",
     "text": [
      "Before Tranformation: \n",
      "[[-0.50965218 -0.14778398 -0.79249401 -0.52978546  0.29484027]\n",
      " [-0.30230275 -0.80328386 -0.51203824  1.23271508 -1.60020786]] \n",
      "\n",
      "Explained Variance Ratio: [0.56118031 0.23974362]\n",
      "\n",
      "Transformed Data (first 2 samples):\n",
      "[[ 0.47512209  1.76660336]\n",
      " [-1.46108546  1.17498839]]\n"
     ]
    }
   ],
   "source": [
    "import numpy as np\n",
    "from sklearn.decomposition import PCA\n",
    "from sklearn.preprocessing import StandardScaler\n",
    "from sklearn.datasets import make_classification\n",
    "\n",
    "# Generate a simple synthetic dataset\n",
    "X, y = make_classification(n_samples=10, n_features=5, random_state=0)\n",
    "\n",
    "print(\"Before Tranformation: \")\n",
    "print(X[:2], \"\\n\")\n",
    "\n",
    "# Standardize the data\n",
    "scaler = StandardScaler()\n",
    "X_scaled = scaler.fit_transform(X)\n",
    "\n",
    "# Apply PCA\n",
    "pca = PCA(n_components=2)  # Reduce to 2 dimensions from 5 dimensions\n",
    "X_pca = pca.fit_transform(X_scaled)\n",
    "\n",
    "# Print explained variance ratio\n",
    "print(f'Explained Variance Ratio: {pca.explained_variance_ratio_}\\n')\n",
    "\n",
    "# Print the transformed data\n",
    "print(f'Transformed Data (first 2 samples):\\n{X_pca[:2]}')"
   ]
  },
  {
   "cell_type": "code",
   "execution_count": null,
   "id": "49197cbc",
   "metadata": {},
   "outputs": [],
   "source": []
  }
 ],
 "metadata": {
  "kernelspec": {
   "display_name": "Python 3 (ipykernel)",
   "language": "python",
   "name": "python3"
  },
  "language_info": {
   "codemirror_mode": {
    "name": "ipython",
    "version": 3
   },
   "file_extension": ".py",
   "mimetype": "text/x-python",
   "name": "python",
   "nbconvert_exporter": "python",
   "pygments_lexer": "ipython3",
   "version": "3.11.5"
  }
 },
 "nbformat": 4,
 "nbformat_minor": 5
}
