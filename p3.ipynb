{
 "cells": [
  {
   "cell_type": "code",
   "execution_count": 1,
   "metadata": {},
   "outputs": [
    {
     "name": "stdout",
     "output_type": "stream",
     "text": [
      "['Outlook', 'Temperature', 'Humidity', 'Wind', 'PlayTennis']\n",
      "['sunny', 'hot', 'high', 'weak', 'no']\n",
      "['sunny', 'hot', 'high', 'strong', 'no']\n",
      "['overcast', 'hot', 'high', 'weak', 'yes']\n",
      "['rain', 'mild', 'high', 'weak', 'yes']\n",
      "['rain', 'cool', 'normal', 'weak', 'yes']\n",
      "['rain', 'cool', 'normal', 'strong', 'no']\n",
      "['overcast', 'cool', 'normal', 'strong', 'yes']\n",
      "['sunny', 'mild', 'high', 'weak', 'no']\n",
      "['sunny', 'cool', 'normal', 'weak', 'yes']\n",
      "['rain', 'mild', 'normal', 'weak', 'yes']\n",
      "['sunny', 'mild', 'normal', 'strong', 'yes']\n",
      "['overcast', 'mild', 'high', 'strong', 'yes']\n",
      "['overcast', 'hot', 'normal', 'weak', 'yes']\n",
      "['rain', 'mild', 'high', 'strong', 'no']\n",
      "\n",
      "Decision Tree: {'Outlook': {'rain': {'Wind': {'strong': 'no', 'weak': 'yes'}}, 'sunny': {'Humidity': {'normal': 'yes', 'high': 'no'}}, 'overcast': 'yes'}}\n"
     ]
    }
   ],
   "source": [
    "import csv\n",
    "from math import log2\n",
    "\n",
    "def get_data(file):\n",
    "    with open(file) as csv_file:\n",
    "        csv_reader = csv.reader(csv_file)\n",
    "        data = list(csv_reader)\n",
    "        for line in data:\n",
    "            print(line)\n",
    "    return data[1:], data[0]\n",
    "\n",
    "def entropy(data):\n",
    "    outcomes = [row[-1] for row in data]\n",
    "    probs = [outcomes.count(value) / len(outcomes) for value in set(outcomes)]\n",
    "    return -sum(p * log2(p) for p in probs)\n",
    "\n",
    "def split_data(data, attr):\n",
    "    values = set(row[attr] for row in data)\n",
    "    return [[row for row in data if row[attr] == value] for value in values]\n",
    "\n",
    "def best_attribute(data):\n",
    "    base_entropy = entropy(data)\n",
    "    gain = [(base_entropy - sum((len(subset) / len(data)) * entropy(subset) for subset in split_data(data, attr)), attr) \n",
    "            for attr in range(len(data[0]) - 1)]\n",
    "    return max(gain)[1]\n",
    "\n",
    "def decision_tree(data, labels):\n",
    "    outcomes = [row[-1] for row in data]\n",
    "    if outcomes.count(outcomes[0]) == len(outcomes):\n",
    "        return outcomes[0]\n",
    "    \n",
    "    attr = best_attribute(data)\n",
    "    tree = {labels[attr]: {}}\n",
    "\n",
    "    for value in set(row[attr] for row in data):\n",
    "        sub_labels = labels[:attr] + labels[attr+1:]\n",
    "        sub_data = [row[:attr] + row[attr+1:] for row in data if row[attr] == value]\n",
    "\n",
    "        tree[labels[attr]][value] = decision_tree(sub_data, sub_labels)\n",
    "        \n",
    "    return tree\n",
    "\n",
    "data, labels = get_data(\"id3.csv\")\n",
    "tree = decision_tree(data, labels)\n",
    "print(\"\\nDecision Tree:\", tree)"
   ]
  }
 ],
 "metadata": {
  "kernelspec": {
   "display_name": "Python 3",
   "language": "python",
   "name": "python3"
  },
  "language_info": {
   "codemirror_mode": {
    "name": "ipython",
    "version": 3
   },
   "file_extension": ".py",
   "mimetype": "text/x-python",
   "name": "python",
   "nbconvert_exporter": "python",
   "pygments_lexer": "ipython3",
   "version": "3.12.2"
  }
 },
 "nbformat": 4,
 "nbformat_minor": 2
}
