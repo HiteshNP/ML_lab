{
 "cells": [
  {
   "cell_type": "code",
   "execution_count": 4,
   "metadata": {},
   "outputs": [
    {
     "name": "stdout",
     "output_type": "stream",
     "text": [
      "Normalized Input: \n",
      " [[0.66666667 1.        ]\n",
      " [0.33333333 0.55555556]\n",
      " [1.         0.66666667]]\n",
      "\n",
      "Actual Output: \n",
      " [[0.92]\n",
      " [0.86]\n",
      " [0.89]]\n",
      "\n",
      "Predicted Output: \n",
      " [[0.89617584]\n",
      " [0.88166036]\n",
      " [0.89190142]]\n"
     ]
    }
   ],
   "source": [
    "import numpy as np\n",
    "\n",
    "X = np.array(([2, 9], [1, 5], [3, 6]), dtype=float)\n",
    "y = np.array(([92], [86], [89]), dtype=float)\n",
    "\n",
    "X = X / np.amax(X, axis=0)\n",
    "y = y / 100\n",
    "\n",
    "def sigmoid(x):\n",
    "    return 1 / (1 + np.exp(-x))\n",
    "\n",
    "def sigmoid_gradient(x):\n",
    "    return x * (1 - x)\n",
    "\n",
    "epochs = 1000\n",
    "learning_rate = 0.2\n",
    "input_neurons = 2\n",
    "hidden_neurons = 3\n",
    "output_neurons = 1\n",
    "\n",
    "weights_input_hidden = np.random.uniform(size=(input_neurons, hidden_neurons))\n",
    "bias_hidden = np.random.uniform(size=(1, hidden_neurons))\n",
    "weights_hidden_output = np.random.uniform(size=(hidden_neurons, output_neurons))\n",
    "bias_output = np.random.uniform(size=(1, output_neurons))\n",
    "\n",
    "for epoch in range(epochs):\n",
    "    hidden_layer_input = np.dot(X, weights_input_hidden) + bias_hidden\n",
    "    hidden_layer_output = sigmoid(hidden_layer_input)\n",
    "    output_layer_input = np.dot(hidden_layer_output, weights_hidden_output) + bias_output\n",
    "    predicted_output = sigmoid(output_layer_input)\n",
    "\n",
    "    error_output_layer = y - predicted_output\n",
    "    gradient_output_layer = sigmoid_gradient(predicted_output)\n",
    "    delta_output_layer = error_output_layer * gradient_output_layer\n",
    "\n",
    "    error_hidden_layer = np.dot(delta_output_layer, weights_hidden_output.T)\n",
    "    gradient_hidden_layer = sigmoid_gradient(hidden_layer_output)\n",
    "    delta_hidden_layer = error_hidden_layer * gradient_hidden_layer\n",
    "\n",
    "    weights_hidden_output += np.dot(hidden_layer_output.T, delta_output_layer) * learning_rate\n",
    "    weights_input_hidden += np.dot(X.T, delta_hidden_layer) * learning_rate\n",
    "\n",
    "print(\"Normalized Input: \\n\" , str(X))\n",
    "print(\"\\nActual Output: \\n\" , str(y))\n",
    "print(\"\\nPredicted Output: \\n\" , str(predicted_output))"
   ]
  }
 ],
 "metadata": {
  "kernelspec": {
   "display_name": "Python 3",
   "language": "python",
   "name": "python3"
  },
  "language_info": {
   "codemirror_mode": {
    "name": "ipython",
    "version": 3
   },
   "file_extension": ".py",
   "mimetype": "text/x-python",
   "name": "python",
   "nbconvert_exporter": "python",
   "pygments_lexer": "ipython3",
   "version": "3.12.2"
  }
 },
 "nbformat": 4,
 "nbformat_minor": 2
}
