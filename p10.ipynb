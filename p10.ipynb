{
 "cells": [
  {
   "cell_type": "markdown",
   "metadata": {},
   "source": [
    "**Aim:** Implement and demonstrate classification algorithm using Support Vector Machine (SVM) Algorithm.\n",
    "\n",
    "**Program:** Implement and demonstrate the working of the SVM algorithm for classification."
   ]
  },
  {
   "cell_type": "code",
   "execution_count": 1,
   "metadata": {},
   "outputs": [
    {
     "name": "stdout",
     "output_type": "stream",
     "text": [
      "Accuracy: 0.9\n",
      "Classification Report:\n",
      "              precision    recall  f1-score   support\n",
      "\n",
      "           0       1.00      1.00      1.00        10\n",
      "           1       0.88      0.78      0.82         9\n",
      "           2       0.83      0.91      0.87        11\n",
      "\n",
      "    accuracy                           0.90        30\n",
      "   macro avg       0.90      0.90      0.90        30\n",
      "weighted avg       0.90      0.90      0.90        30\n",
      "\n"
     ]
    }
   ],
   "source": [
    "from sklearn.datasets import load_iris\n",
    "from sklearn.svm import SVC\n",
    "from sklearn.model_selection import train_test_split\n",
    "from sklearn.metrics import accuracy_score, classification_report\n",
    "\n",
    "iris = load_iris()\n",
    "X = iris.data[:, :2]  \n",
    "y = iris.target\n",
    "\n",
    "X_train, X_test, y_train, y_test = train_test_split(X, y, test_size=0.2, random_state=42)\n",
    "\n",
    "svm = SVC(kernel='linear', C=1, random_state=42)\n",
    "svm.fit(X_train, y_train)\n",
    "\n",
    "y_pred = svm.predict(X_test)\n",
    "\n",
    "accuracy = accuracy_score(y_test, y_pred)\n",
    "print(\"Accuracy:\", accuracy)\n",
    "print(\"Classification Report:\")\n",
    "print(classification_report(y_test, y_pred))"
   ]
  },
  {
   "cell_type": "markdown",
   "metadata": {},
   "source": [
    "### 1. Why did you choose a linear kernel for the SVM?\n",
    "\n",
    "A linear kernel is chosen for simplicity and is suitable when the data is linearly separable, as with the Iris dataset's first two features.\n",
    "\n",
    "### 2. What is the role of the parameter C in the SVM model?\n",
    "\n",
    "The parameter C controls the regularization strength. A higher C value aims for a smaller margin with fewer misclassifications, while a lower C value allows a larger margin with more misclassifications.\n",
    "\n",
    "### 3. How would you handle non-linearly separable data with SVM?\n",
    "\n",
    "For non-linearly separable data, you can use non-linear kernels like the RBF kernel, which can map data into higher dimensions to find a separating hyperplane.\n",
    "\n",
    "### 4. What does the `classification_report` provide in terms of model evaluation?\n",
    "\n",
    "The `classification_report` provides precision, recall, and F1-score for each class, giving a detailed assessment of the model's performance across different classes."
   ]
  }
 ],
 "metadata": {
  "kernelspec": {
   "display_name": "Python 3",
   "language": "python",
   "name": "python3"
  },
  "language_info": {
   "codemirror_mode": {
    "name": "ipython",
    "version": 3
   },
   "file_extension": ".py",
   "mimetype": "text/x-python",
   "name": "python",
   "nbconvert_exporter": "python",
   "pygments_lexer": "ipython3",
   "version": "3.12.2"
  }
 },
 "nbformat": 4,
 "nbformat_minor": 2
}
